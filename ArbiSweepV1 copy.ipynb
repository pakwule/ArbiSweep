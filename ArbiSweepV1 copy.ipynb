{
 "cells": [
  {
   "cell_type": "code",
   "execution_count": 50,
   "id": "93617864",
   "metadata": {},
   "outputs": [],
   "source": [
    "import pandas as pd"
   ]
  },
  {
   "cell_type": "code",
   "execution_count": 51,
   "id": "dedf58e6",
   "metadata": {},
   "outputs": [
    {
     "name": "stdout",
     "output_type": "stream",
     "text": [
      "Requirement already satisfied: notebook in /Users/owner1/anaconda3/lib/python3.11/site-packages (6.5.4)\n",
      "Requirement already satisfied: jinja2 in /Users/owner1/anaconda3/lib/python3.11/site-packages (from notebook) (3.1.2)\n",
      "Requirement already satisfied: tornado>=6.1 in /Users/owner1/anaconda3/lib/python3.11/site-packages (from notebook) (6.3.2)\n",
      "Requirement already satisfied: pyzmq>=17 in /Users/owner1/anaconda3/lib/python3.11/site-packages (from notebook) (23.2.0)\n",
      "Requirement already satisfied: argon2-cffi in /Users/owner1/anaconda3/lib/python3.11/site-packages (from notebook) (21.3.0)\n",
      "Requirement already satisfied: traitlets>=4.2.1 in /Users/owner1/anaconda3/lib/python3.11/site-packages (from notebook) (5.7.1)\n",
      "Requirement already satisfied: jupyter-core>=4.6.1 in /Users/owner1/anaconda3/lib/python3.11/site-packages (from notebook) (5.3.0)\n",
      "Requirement already satisfied: jupyter-client>=5.3.4 in /Users/owner1/anaconda3/lib/python3.11/site-packages (from notebook) (7.4.9)\n",
      "Requirement already satisfied: ipython-genutils in /Users/owner1/anaconda3/lib/python3.11/site-packages (from notebook) (0.2.0)\n",
      "Requirement already satisfied: nbformat in /Users/owner1/anaconda3/lib/python3.11/site-packages (from notebook) (5.7.0)\n",
      "Requirement already satisfied: nbconvert>=5 in /Users/owner1/anaconda3/lib/python3.11/site-packages (from notebook) (6.5.4)\n",
      "Requirement already satisfied: nest-asyncio>=1.5 in /Users/owner1/anaconda3/lib/python3.11/site-packages (from notebook) (1.5.6)\n",
      "Requirement already satisfied: ipykernel in /Users/owner1/anaconda3/lib/python3.11/site-packages (from notebook) (6.19.2)\n",
      "Requirement already satisfied: Send2Trash>=1.8.0 in /Users/owner1/anaconda3/lib/python3.11/site-packages (from notebook) (1.8.0)\n",
      "Requirement already satisfied: terminado>=0.8.3 in /Users/owner1/anaconda3/lib/python3.11/site-packages (from notebook) (0.17.1)\n",
      "Requirement already satisfied: prometheus-client in /Users/owner1/anaconda3/lib/python3.11/site-packages (from notebook) (0.14.1)\n",
      "Requirement already satisfied: nbclassic>=0.4.7 in /Users/owner1/anaconda3/lib/python3.11/site-packages (from notebook) (0.5.5)\n",
      "Requirement already satisfied: entrypoints in /Users/owner1/anaconda3/lib/python3.11/site-packages (from jupyter-client>=5.3.4->notebook) (0.4)\n",
      "Requirement already satisfied: python-dateutil>=2.8.2 in /Users/owner1/anaconda3/lib/python3.11/site-packages (from jupyter-client>=5.3.4->notebook) (2.8.2)\n",
      "Requirement already satisfied: platformdirs>=2.5 in /Users/owner1/anaconda3/lib/python3.11/site-packages (from jupyter-core>=4.6.1->notebook) (2.5.2)\n",
      "Requirement already satisfied: jupyter-server>=1.8 in /Users/owner1/anaconda3/lib/python3.11/site-packages (from nbclassic>=0.4.7->notebook) (1.23.4)\n",
      "Requirement already satisfied: notebook-shim>=0.1.0 in /Users/owner1/anaconda3/lib/python3.11/site-packages (from nbclassic>=0.4.7->notebook) (0.2.2)\n",
      "Requirement already satisfied: lxml in /Users/owner1/anaconda3/lib/python3.11/site-packages (from nbconvert>=5->notebook) (4.9.2)\n",
      "Requirement already satisfied: beautifulsoup4 in /Users/owner1/anaconda3/lib/python3.11/site-packages (from nbconvert>=5->notebook) (4.12.2)\n",
      "Requirement already satisfied: bleach in /Users/owner1/anaconda3/lib/python3.11/site-packages (from nbconvert>=5->notebook) (4.1.0)\n",
      "Requirement already satisfied: defusedxml in /Users/owner1/anaconda3/lib/python3.11/site-packages (from nbconvert>=5->notebook) (0.7.1)\n",
      "Requirement already satisfied: jupyterlab-pygments in /Users/owner1/anaconda3/lib/python3.11/site-packages (from nbconvert>=5->notebook) (0.1.2)\n",
      "Requirement already satisfied: MarkupSafe>=2.0 in /Users/owner1/anaconda3/lib/python3.11/site-packages (from nbconvert>=5->notebook) (2.1.1)\n",
      "Requirement already satisfied: mistune<2,>=0.8.1 in /Users/owner1/anaconda3/lib/python3.11/site-packages (from nbconvert>=5->notebook) (0.8.4)\n",
      "Requirement already satisfied: nbclient>=0.5.0 in /Users/owner1/anaconda3/lib/python3.11/site-packages (from nbconvert>=5->notebook) (0.5.13)\n",
      "Requirement already satisfied: packaging in /Users/owner1/anaconda3/lib/python3.11/site-packages (from nbconvert>=5->notebook) (23.0)\n",
      "Requirement already satisfied: pandocfilters>=1.4.1 in /Users/owner1/anaconda3/lib/python3.11/site-packages (from nbconvert>=5->notebook) (1.5.0)\n",
      "Requirement already satisfied: pygments>=2.4.1 in /Users/owner1/anaconda3/lib/python3.11/site-packages (from nbconvert>=5->notebook) (2.15.1)\n",
      "Requirement already satisfied: tinycss2 in /Users/owner1/anaconda3/lib/python3.11/site-packages (from nbconvert>=5->notebook) (1.2.1)\n",
      "Requirement already satisfied: fastjsonschema in /Users/owner1/anaconda3/lib/python3.11/site-packages (from nbformat->notebook) (2.16.2)\n",
      "Requirement already satisfied: jsonschema>=2.6 in /Users/owner1/anaconda3/lib/python3.11/site-packages (from nbformat->notebook) (4.17.3)\n",
      "Requirement already satisfied: ptyprocess in /Users/owner1/anaconda3/lib/python3.11/site-packages (from terminado>=0.8.3->notebook) (0.7.0)\n",
      "Requirement already satisfied: argon2-cffi-bindings in /Users/owner1/anaconda3/lib/python3.11/site-packages (from argon2-cffi->notebook) (21.2.0)\n",
      "Requirement already satisfied: appnope in /Users/owner1/anaconda3/lib/python3.11/site-packages (from ipykernel->notebook) (0.1.2)\n",
      "Requirement already satisfied: comm>=0.1.1 in /Users/owner1/anaconda3/lib/python3.11/site-packages (from ipykernel->notebook) (0.1.2)\n",
      "Requirement already satisfied: debugpy>=1.0 in /Users/owner1/anaconda3/lib/python3.11/site-packages (from ipykernel->notebook) (1.6.7)\n",
      "Requirement already satisfied: ipython>=7.23.1 in /Users/owner1/anaconda3/lib/python3.11/site-packages (from ipykernel->notebook) (8.12.0)\n",
      "Requirement already satisfied: matplotlib-inline>=0.1 in /Users/owner1/anaconda3/lib/python3.11/site-packages (from ipykernel->notebook) (0.1.6)\n",
      "Requirement already satisfied: psutil in /Users/owner1/anaconda3/lib/python3.11/site-packages (from ipykernel->notebook) (5.9.0)\n",
      "Requirement already satisfied: backcall in /Users/owner1/anaconda3/lib/python3.11/site-packages (from ipython>=7.23.1->ipykernel->notebook) (0.2.0)\n",
      "Requirement already satisfied: decorator in /Users/owner1/anaconda3/lib/python3.11/site-packages (from ipython>=7.23.1->ipykernel->notebook) (5.1.1)\n",
      "Requirement already satisfied: jedi>=0.16 in /Users/owner1/anaconda3/lib/python3.11/site-packages (from ipython>=7.23.1->ipykernel->notebook) (0.18.1)\n",
      "Requirement already satisfied: pickleshare in /Users/owner1/anaconda3/lib/python3.11/site-packages (from ipython>=7.23.1->ipykernel->notebook) (0.7.5)\n",
      "Requirement already satisfied: prompt-toolkit!=3.0.37,<3.1.0,>=3.0.30 in /Users/owner1/anaconda3/lib/python3.11/site-packages (from ipython>=7.23.1->ipykernel->notebook) (3.0.36)\n",
      "Requirement already satisfied: stack-data in /Users/owner1/anaconda3/lib/python3.11/site-packages (from ipython>=7.23.1->ipykernel->notebook) (0.2.0)\n",
      "Requirement already satisfied: pexpect>4.3 in /Users/owner1/anaconda3/lib/python3.11/site-packages (from ipython>=7.23.1->ipykernel->notebook) (4.8.0)\n",
      "Requirement already satisfied: attrs>=17.4.0 in /Users/owner1/anaconda3/lib/python3.11/site-packages (from jsonschema>=2.6->nbformat->notebook) (19.3.0)\n",
      "Requirement already satisfied: pyrsistent!=0.17.0,!=0.17.1,!=0.17.2,>=0.14.0 in /Users/owner1/anaconda3/lib/python3.11/site-packages (from jsonschema>=2.6->nbformat->notebook) (0.18.0)\n",
      "Requirement already satisfied: anyio<4,>=3.1.0 in /Users/owner1/anaconda3/lib/python3.11/site-packages (from jupyter-server>=1.8->nbclassic>=0.4.7->notebook) (3.5.0)\n",
      "Requirement already satisfied: websocket-client in /Users/owner1/anaconda3/lib/python3.11/site-packages (from jupyter-server>=1.8->nbclassic>=0.4.7->notebook) (0.58.0)\n",
      "Requirement already satisfied: six>=1.5 in /Users/owner1/anaconda3/lib/python3.11/site-packages (from python-dateutil>=2.8.2->jupyter-client>=5.3.4->notebook) (1.16.0)\n",
      "Requirement already satisfied: cffi>=1.0.1 in /Users/owner1/anaconda3/lib/python3.11/site-packages (from argon2-cffi-bindings->argon2-cffi->notebook) (1.15.1)\n",
      "Requirement already satisfied: soupsieve>1.2 in /Users/owner1/anaconda3/lib/python3.11/site-packages (from beautifulsoup4->nbconvert>=5->notebook) (2.4)\n",
      "Requirement already satisfied: webencodings in /Users/owner1/anaconda3/lib/python3.11/site-packages (from bleach->nbconvert>=5->notebook) (0.5.1)\n",
      "Requirement already satisfied: idna>=2.8 in /Users/owner1/anaconda3/lib/python3.11/site-packages (from anyio<4,>=3.1.0->jupyter-server>=1.8->nbclassic>=0.4.7->notebook) (2.8)\n",
      "Requirement already satisfied: sniffio>=1.1 in /Users/owner1/anaconda3/lib/python3.11/site-packages (from anyio<4,>=3.1.0->jupyter-server>=1.8->nbclassic>=0.4.7->notebook) (1.2.0)\n"
     ]
    },
    {
     "name": "stdout",
     "output_type": "stream",
     "text": [
      "Requirement already satisfied: pycparser in /Users/owner1/anaconda3/lib/python3.11/site-packages (from cffi>=1.0.1->argon2-cffi-bindings->argon2-cffi->notebook) (2.21)\n",
      "Requirement already satisfied: parso<0.9.0,>=0.8.0 in /Users/owner1/anaconda3/lib/python3.11/site-packages (from jedi>=0.16->ipython>=7.23.1->ipykernel->notebook) (0.8.3)\n",
      "Requirement already satisfied: wcwidth in /Users/owner1/anaconda3/lib/python3.11/site-packages (from prompt-toolkit!=3.0.37,<3.1.0,>=3.0.30->ipython>=7.23.1->ipykernel->notebook) (0.2.5)\n",
      "Requirement already satisfied: executing in /Users/owner1/anaconda3/lib/python3.11/site-packages (from stack-data->ipython>=7.23.1->ipykernel->notebook) (0.8.3)\n",
      "Requirement already satisfied: asttokens in /Users/owner1/anaconda3/lib/python3.11/site-packages (from stack-data->ipython>=7.23.1->ipykernel->notebook) (2.0.5)\n",
      "Requirement already satisfied: pure-eval in /Users/owner1/anaconda3/lib/python3.11/site-packages (from stack-data->ipython>=7.23.1->ipykernel->notebook) (0.2.2)\n",
      "Note: you may need to restart the kernel to use updated packages.\n"
     ]
    }
   ],
   "source": [
    "pip install notebook"
   ]
  },
  {
   "cell_type": "code",
   "execution_count": 52,
   "id": "ed3429bd",
   "metadata": {},
   "outputs": [
    {
     "name": "stdout",
     "output_type": "stream",
     "text": [
      "Here is the S&P 500 Level:\n",
      "{'1. open': '534.2100', '2. high': '535.7300', '3. low': '530.9500', '4. close': '533.2700', '5. volume': '42542069'}\n"
     ]
    }
   ],
   "source": [
    "#The puroose of the following cell is to retrieve indicator one: \n",
    "#The S&P 500 Level including: Open, Close, High, Low ,and Volume\n",
    "#Alpha Vantage API Key: INSERT\n",
    "import requests\n",
    "import json\n",
    "\n",
    "def Px901_sp500_level(api_key):\n",
    "    # Define the API endpoint and parameters\n",
    "    url = \"https://www.alphavantage.co/query\"\n",
    "    params = {\n",
    "        \"function\": \"TIME_SERIES_DAILY\",\n",
    "        \"symbol\": \"SPY\",  # Using SPY ETF as a proxy for S&P 500\n",
    "        \"apikey\": \"INSERT\"\n",
    "    }\n",
    "    \n",
    "    # Make the API request by way of response mondule\n",
    "    response = requests.get(url, params=params)\n",
    "    \n",
    "    # Verification to ensure that response is successful\n",
    "    if response.status_code == 200:\n",
    "        data = response.json()\n",
    "        # Access the latest price data from NYSE\n",
    "        time_series = data.get(\"Time Series (Daily)\")\n",
    "        if time_series:\n",
    "            latest_timestamp = sorted(time_series.keys())[-1]\n",
    "            latest_data = time_series[latest_timestamp]\n",
    "            return latest_data\n",
    "        else:\n",
    "            print(\"There is no time series data present.\")\n",
    "            return None\n",
    "    else:\n",
    "        print(f\"No data retrieved: {response.status_code}\")\n",
    "        return None\n",
    "\n",
    "# Pull S&P 500 Data\n",
    "api_key = \"INSERT\"\n",
    "sp500_level = Px901_sp500_level(api_key)\n",
    "\n",
    "if sp500_level:\n",
    "    print(\"Here is the S&P 500 Level:\")\n",
    "    print(sp500_level)\n",
    "else:\n",
    "    print(\"No data retrieved.\")\n"
   ]
  },
  {
   "cell_type": "code",
   "execution_count": 8,
   "id": "4f1cc4c6",
   "metadata": {
    "scrolled": true
   },
   "outputs": [
    {
     "name": "stdout",
     "output_type": "stream",
     "text": [
      "Requirement already satisfied: requests in /Users/owner1/anaconda3/lib/python3.11/site-packages (2.22.0)\n",
      "Requirement already satisfied: beautifulsoup4 in /Users/owner1/anaconda3/lib/python3.11/site-packages (4.12.2)\n",
      "Requirement already satisfied: chardet<3.1.0,>=3.0.2 in /Users/owner1/anaconda3/lib/python3.11/site-packages (from requests) (3.0.4)\n",
      "Requirement already satisfied: idna<2.9,>=2.5 in /Users/owner1/anaconda3/lib/python3.11/site-packages (from requests) (2.8)\n",
      "Requirement already satisfied: urllib3!=1.25.0,!=1.25.1,<1.26,>=1.21.1 in /Users/owner1/anaconda3/lib/python3.11/site-packages (from requests) (1.25.7)\n",
      "Requirement already satisfied: certifi>=2017.4.17 in /Users/owner1/anaconda3/lib/python3.11/site-packages (from requests) (2019.11.28)\n",
      "Requirement already satisfied: soupsieve>1.2 in /Users/owner1/anaconda3/lib/python3.11/site-packages (from beautifulsoup4) (2.4)\n",
      "Note: you may need to restart the kernel to use updated packages.\n"
     ]
    }
   ],
   "source": [
    "pip install requests beautifulsoup4\n"
   ]
  },
  {
   "cell_type": "code",
   "execution_count": 53,
   "id": "7a30b86f",
   "metadata": {},
   "outputs": [
    {
     "name": "stdout",
     "output_type": "stream",
     "text": [
      "The 30-Year Fixed Mortgage Rate is: 6.59%\n"
     ]
    },
    {
     "name": "stderr",
     "output_type": "stream",
     "text": [
      "/var/folders/xr/jql7l18d7gg20_3r4h5p5v6c0000gn/T/ipykernel_58014/2231436603.py:17: DeprecationWarning: The 'text' argument to find()-type methods is deprecated. Use 'string' instead.\n",
      "  row = soup.find('a', text=\"30-Year Fixed Rate\").find_parent('tr')\n"
     ]
    }
   ],
   "source": [
    "import requests\n",
    "from bs4 import BeautifulSoup\n",
    "#The puroose of the following cell is to retrieve indicator two: \n",
    "#The Current USA 30 Year Fixed Mortgage Rate\n",
    "# URL of the page to scrape\n",
    "url = \"https://www.bankrate.com/mortgages/30-year-mortgage-rates/\"\n",
    "\n",
    "# Send a GET request to the webpage\n",
    "response = requests.get(url)\n",
    "\n",
    "# Check if the request was successful\n",
    "if response.status_code == 200:\n",
    "    # Parse the content of the page\n",
    "    soup = BeautifulSoup(response.content, 'html.parser')\n",
    "\n",
    "    # Find the table row (tr) that contains the \"30-Year Fixed Rate\" text\n",
    "    row = soup.find('a', text=\"30-Year Fixed Rate\").find_parent('tr')\n",
    "    \n",
    "    if row:\n",
    "        # Find the td that contains the interest rate within this row\n",
    "        interest_rate_td = row.find_all('td')[0]  # Assuming the second <td> contains the rate\n",
    "        interest_rate = interest_rate_td.get_text(strip=True)\n",
    "        print(f\"The 30-Year Fixed Mortgage Rate is: {interest_rate}\")\n",
    "    else:\n",
    "        print(\"Could not find the 30-Year Fixed Rate row.\")\n",
    "else:\n",
    "    print(f\"Failed to retrieve the page. Status code: {response.status_code}\")\n"
   ]
  },
  {
   "cell_type": "code",
   "execution_count": 60,
   "id": "12c68342",
   "metadata": {},
   "outputs": [
    {
     "name": "stdout",
     "output_type": "stream",
     "text": [
      "Current BTC to USD exchange rate: 60803.71000000\n"
     ]
    }
   ],
   "source": [
    "#The puroose of the following cell is to retrieve indicator three: \n",
    "#The Bitcoin Level - $BTC\n",
    "def get_btc_level(api_key):\n",
    "    # Define the API endpoint and parameters\n",
    "    url = \"https://www.alphavantage.co/query\"\n",
    "    params = {\n",
    "        'function': 'CURRENCY_EXCHANGE_RATE',\n",
    "        'from_currency': 'BTC',\n",
    "        'to_currency': 'USD',\n",
    "        'apikey': \"INSERT\"\n",
    "    }\n",
    "    \n",
    "    # Make the API request\n",
    "    response = requests.get(url, params=params)\n",
    "    \n",
    "    # Check if the request was successful\n",
    "    if response.status_code == 200:\n",
    "        data = response.json()\n",
    "        return data\n",
    "    else:\n",
    "        print(f\"Failed to retrieve data: {response.status_code}\")\n",
    "        return None\n",
    "\n",
    "# Example usage\n",
    "api_key = \"INSERT\"\n",
    "btc_data = get_btc_level(api_key)\n",
    "\n",
    "if btc_data:\n",
    "    # Extracting the exchange rate from the response\n",
    "    exchange_rate = btc_data['Realtime Currency Exchange Rate']['5. Exchange Rate']\n",
    "    print(f\"Current BTC to USD exchange rate: {exchange_rate}\")\n",
    "else:\n",
    "    print(\"No data retrieved.\")"
   ]
  },
  {
   "cell_type": "code",
   "execution_count": 61,
   "id": "8079566e",
   "metadata": {},
   "outputs": [
    {
     "name": "stdout",
     "output_type": "stream",
     "text": [
      "The current Bitcoin Sharpe ratio is 1.18. This value is calculated based on the past 1 year of trading data and takes into account price changes and dividends.\n"
     ]
    }
   ],
   "source": [
    "#The puroose of the following cell is to retrieve indicator four: \n",
    "#The SHARPE RATIO - $BTC\n",
    "import requests\n",
    "from bs4 import BeautifulSoup\n",
    "\n",
    "def get_btc_sharpe_ratio(url):\n",
    "    # Fetch the webpage content\n",
    "    response = requests.get(url)\n",
    "    if response.status_code == 200:\n",
    "        # Parse the HTML content\n",
    "        soup = BeautifulSoup(response.content, 'html.parser')\n",
    "        \n",
    "        # Find the element containing the Sharpe ratio\n",
    "        sharpe_ratio_element = soup.find('p', class_='MuiTypography-root MuiTypography-body1 MuiTypography-paragraph css-k97hf6')\n",
    "        \n",
    "        # Extract and return the Sharpe ratio value\n",
    "        if sharpe_ratio_element:\n",
    "            sharpe_ratio_text = sharpe_ratio_element.get_text()\n",
    "            return sharpe_ratio_text\n",
    "        else:\n",
    "            print(\"Sharpe ratio element not found.\")\n",
    "            return None\n",
    "    else:\n",
    "        print(f\"Failed to retrieve the webpage: {response.status_code}\")\n",
    "        return None\n",
    "\n",
    "# Example usage\n",
    "url = \"https://portfolioslab.com/symbol/BTC-USD\"  # Replace with the correct URL\n",
    "sharpe_ratio_text = get_btc_sharpe_ratio(url)\n",
    "if sharpe_ratio_text is not None:\n",
    "    print(sharpe_ratio_text)\n",
    "else:\n",
    "    print(\"Failed to retrieve the Sharpe ratio.\")\n"
   ]
  },
  {
   "cell_type": "code",
   "execution_count": 62,
   "id": "3c8c7f92",
   "metadata": {},
   "outputs": [
    {
     "name": "stdout",
     "output_type": "stream",
     "text": [
      "The current S&P 500 Portfolio Sharpe ratio is 1.72. This value is calculated based on the past 1 year of trading data and takes into account price changes and dividends.\n"
     ]
    }
   ],
   "source": [
    "#The puroose of the following cell is to retrieve indicator five: \n",
    "#The SHARPE RATIO - S&P 500 Portfolio\n",
    "import requests\n",
    "from bs4 import BeautifulSoup\n",
    "\n",
    "def get_snp_sharpe_ratio(url):\n",
    "    # Fetch the webpage content\n",
    "    response = requests.get(url)\n",
    "    if response.status_code == 200:\n",
    "        # Parse the HTML content\n",
    "        soup = BeautifulSoup(response.content, 'html.parser')\n",
    "        \n",
    "        # Find the element containing the Sharpe ratio\n",
    "        sp_sharpe_ratio_element = soup.find('p', class_= \"MuiTypography-root MuiTypography-body1 MuiTypography-paragraph css-k97hf6\")\n",
    "        \n",
    "        # Extract and return the Sharpe ratio value\n",
    "        if sp_sharpe_ratio_element:\n",
    "            sharpe_ratio_text = sp_sharpe_ratio_element.get_text()\n",
    "            return sharpe_ratio_text\n",
    "        else:\n",
    "            print(\"Sharpe ratio element not found.\")\n",
    "            return None\n",
    "    else:\n",
    "        print(f\"Failed to retrieve the webpage: {response.status_code}\")\n",
    "        return None\n",
    "\n",
    "# Example usage\n",
    "url = \"https://portfolioslab.com/portfolio/sp-500\"  # Replace with the correct URL\n",
    "sharpe_ratio_text = get_snp_sharpe_ratio(url)\n",
    "if sharpe_ratio_text is not None:\n",
    "    print(sharpe_ratio_text)\n",
    "else:\n",
    "    print(\"Failed to retrieve the Sharpe ratio.\")\n",
    "    \n"
   ]
  },
  {
   "cell_type": "code",
   "execution_count": 59,
   "id": "d3a6b134",
   "metadata": {},
   "outputs": [
    {
     "name": "stdout",
     "output_type": "stream",
     "text": [
      "Current Median Sales Price: US Existing Home Median Sales Price is at a current level of 426900.0, up from 417200.0 last month and up from 410100.0 one year ago.  This is a change of 2.33% from last month and 4.10% from one year ago.\n"
     ]
    }
   ],
   "source": [
    "#The puroose of the following cell is to retrieve indicator six: \n",
    "#The Median Sale Price of Homes(USA)\n",
    "import requests\n",
    "from bs4 import BeautifulSoup\n",
    "\n",
    "def get_median_sales_price(url):\n",
    "    headers = {\n",
    "        'User-Agent': 'Mozilla/5.0 (Windows NT 10.0; Win64; x64) AppleWebKit/537.36 (KHTML, like Gecko) Chrome/58.0.3029.110 Safari/537.3'\n",
    "    }\n",
    "\n",
    "    # Fetch the webpage content\n",
    "    response = requests.get(url, headers=headers)\n",
    "    if response.status_code == 200:\n",
    "        # Parse the HTML content\n",
    "        soup = BeautifulSoup(response.content, 'html.parser')\n",
    "        \n",
    "        # Find the element containing the median sales price\n",
    "        panel_data = soup.find_all('div', class_='panel-content')\n",
    "        for panel in panel_data:\n",
    "            price_element = panel.find('p')\n",
    "            if price_element and 'US Existing Home Median Sales Price is at a current level' in price_element.text:\n",
    "                price_text = price_element.get_text()\n",
    "                return price_text\n",
    "        print(\"Median sales price element not found.\")\n",
    "        return None\n",
    "    else:\n",
    "        print(f\"Failed to retrieve the webpage: {response.status_code}\")\n",
    "        return None\n",
    "\n",
    "# Example usage\n",
    "url = \"https://ycharts.com/indicators/us_existing_home_median_sales_price\"\n",
    "median_sales_price = get_median_sales_price(url)\n",
    "if median_sales_price is not None:\n",
    "    print(f\"Current Median Sales Price: {median_sales_price}\")\n",
    "else:\n",
    "    print(\"Failed to retrieve the median sales price.\")\n"
   ]
  },
  {
   "cell_type": "code",
   "execution_count": 58,
   "id": "3bd3e529",
   "metadata": {},
   "outputs": [
    {
     "name": "stdout",
     "output_type": "stream",
     "text": [
      "  symbol    volume\n",
      "0   AAPL  38028092\n",
      "3   AMZN  30072788\n",
      "6      V  26769518\n",
      "1   MSFT  16762883\n",
      "2  GOOGL  15895286\n",
      "5    JNJ   7605419\n",
      "7     PG   7208103\n",
      "8    JPM   6935954\n",
      "4  BRK.B   2376042\n"
     ]
    }
   ],
   "source": [
    "#The puroose of the following cell is to retrieve indicator seven: \n",
    "#TO BE REFINED IN ARBISWEEP V2 - Volume Checker\n",
    "import requests\n",
    "import pandas as pd\n",
    "\n",
    "def get_stock_data(api_key, symbol):\n",
    "    url = \"https://www.alphavantage.co/query\"\n",
    "    params = {\n",
    "        'function': 'TIME_SERIES_DAILY',\n",
    "        'symbol': symbol,\n",
    "        'apikey': \"INSERT\",\n",
    "        'outputsize': 'compact'\n",
    "    }\n",
    "    response = requests.get(url, params=params)\n",
    "    if response.status_code == 200:\n",
    "        data = response.json()\n",
    "        if 'Time Series (Daily)' in data:\n",
    "            daily_data = data['Time Series (Daily)']\n",
    "            latest_date = max(daily_data.keys())\n",
    "            return {\n",
    "                'symbol': symbol,\n",
    "                'volume': int(daily_data[latest_date]['5. volume'])\n",
    "            }\n",
    "    return None\n",
    "\n",
    "def get_top_10_stocks_by_volume(api_key, symbols):\n",
    "    stock_data = []\n",
    "    for symbol in symbols:\n",
    "        data = get_stock_data(api_key, symbol)\n",
    "        if data:\n",
    "            stock_data.append(data)\n",
    "    df = pd.DataFrame(stock_data)\n",
    "    df = df.sort_values(by='volume', ascending=False)\n",
    "    return df.head(10)\n",
    "\n",
    "# Example usage\n",
    "api_key = \"7IJJB04O6UB1GK54\"\n",
    "# List of S&P 500 symbols (a small sample for demonstration)\n",
    "sp500_symbols = ['AAPL', 'MSFT', 'GOOGL', 'AMZN', 'FB', 'BRK.B', 'JNJ', 'V', 'PG', 'JPM']\n",
    "\n",
    "top_10_stocks = get_top_10_stocks_by_volume(api_key, sp500_symbols)\n",
    "print(top_10_stocks)\n"
   ]
  },
  {
   "cell_type": "code",
   "execution_count": null,
   "id": "b5c3f1d4",
   "metadata": {},
   "outputs": [],
   "source": []
  }
 ],
 "metadata": {
  "kernelspec": {
   "display_name": "Python 3 (ipykernel)",
   "language": "python",
   "name": "python3"
  },
  "language_info": {
   "codemirror_mode": {
    "name": "ipython",
    "version": 3
   },
   "file_extension": ".py",
   "mimetype": "text/x-python",
   "name": "python",
   "nbconvert_exporter": "python",
   "pygments_lexer": "ipython3",
   "version": "3.11.4"
  }
 },
 "nbformat": 4,
 "nbformat_minor": 5
}
